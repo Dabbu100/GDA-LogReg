{
 "cells": [
  {
   "cell_type": "code",
   "execution_count": 1,
   "metadata": {},
   "outputs": [],
   "source": [
    "import numpy as np\n",
    "import pandas as pd\n",
    "import matplotlib.pyplot as plt\n",
    "from sklearn.model_selection import train_test_split"
   ]
  },
  {
   "cell_type": "code",
   "execution_count": 16,
   "metadata": {},
   "outputs": [],
   "source": [
    "class LogReg:\n",
    "    def __init__ (self, x,y):\n",
    "        self.intercept = np.ones((x.shape[0],1))\n",
    "        self.x = np.concatenate((self.intercept, x), axis=1)\n",
    "        self.weight = np.zeros(self.x.shape[1])\n",
    "        self.y = y\n",
    "    \n",
    "    #calculating the sigmoid function\n",
    "    def sigmoid(self, x, weight):\n",
    "        z = np.dot(x, weight)\n",
    "        return 1 / (1 + np.exp(-z))\n",
    "    \n",
    "    #calculating the empirical loss function\n",
    "    def loss(self,h,y):\n",
    "        return (-y * np.log(h) - (1-y) * np.log(1-h)).mean()\n",
    "    \n",
    "    def gradient_descent(self, X, h, y):\n",
    "        return (np.dot(X.T, (h-y)) / y.shape[0])\n",
    "    \n",
    "    def fit(self, lr, iterations):\n",
    "        arrloss = []\n",
    "        arrit = []\n",
    "        for i in range(iterations):\n",
    "            sigma = self.sigmoid(self.x, self.weight)\n",
    "            loss = self.loss(sigma, self.y)\n",
    "            arrloss.append(loss)\n",
    "            arrit.append(i)\n",
    "            dw = self.gradient_descent(self.x,sigma,self.y)\n",
    "            self.weight -= lr * dw\n",
    "        print(\"data printed successfully\")\n",
    "        graph = plt.plot(arrit,arrloss)\n",
    "        plt.xlabel(\"No of iterations\")\n",
    "        plt.ylabel(\"Loss\")\n",
    "        plt.axis([0, iterations, 0, 15])\n",
    "        return graph\n",
    "    \n",
    "    def predict(self, x_new, th):\n",
    "        x_new = np.concatenate((self.intercept, x_new), axis=1)\n",
    "        result = self.sigmoid(x_new, self.weight)\n",
    "        result = result >= th\n",
    "        y_pred = np.zeros(result.shape[0])\n",
    "        for i in range(len(y_pred)):\n",
    "            if (result[i] == True):\n",
    "                y_pred[i] = 1\n",
    "            else:\n",
    "                continue\n",
    "        return y_pred"
   ]
  },
  {
   "cell_type": "code",
   "execution_count": 17,
   "metadata": {},
   "outputs": [
    {
     "name": "stdout",
     "output_type": "stream",
     "text": [
      "data printed successfully\n",
      "for ds1_train accuracy -> 0.775\n"
     ]
    },
    {
     "data": {
      "image/png": "[encoded data removed]",
      "text/plain": [
       "<Figure size 432x288 with 1 Axes>"
      ]
     },
     "metadata": {
      "needs_background": "light"
     },
     "output_type": "display_data"
    }
   ],
   "source": [
    "dtrain = pd.read_csv(\"ds1_train.csv\")\n",
    "dtest = pd.read_csv(\"ds1_test.csv\")\n",
    "xtrain = dtrain[['x_1','x_2']]\n",
    "ytrain = dtrain['y']\n",
    "xtr, xval, ytr, yval = train_test_split(xtrain, ytrain, test_size=0.5)\n",
    "model = LogReg(xtr, ytr)\n",
    "model.fit(0.001, 5000)\n",
    "y_pred =  model.predict(xval,0.5)\n",
    "print('for ds1_train accuracy -> {}'.format(sum(y_pred == yval)/yval.shape[0]))"
   ]
  },
  {
   "cell_type": "code",
   "execution_count": 14,
   "metadata": {},
   "outputs": [
    {
     "name": "stdout",
     "output_type": "stream",
     "text": [
      "data printed successfully\n",
      "accuracy -> 0.74\n"
     ]
    },
    {
     "data": {
      "image/png": "[encoded data removed]",
      "text/plain": [
       "<Figure size 432x288 with 1 Axes>"
      ]
     },
     "metadata": {
      "needs_background": "light"
     },
     "output_type": "display_data"
    }
   ],
   "source": [
    "xtest = dtest[['x_1','x_2']]\n",
    "ytest = dtest['y']\n",
    "xtr1, xval1, ytr1, yval1 = train_test_split(xtest, ytest, test_size=0.5)\n",
    "reg = LogReg(xtr1, ytr1)\n",
    "reg.fit(0.001, 5000)\n",
    "y_pred1 =  reg.predict(xval1,0.5)\n",
    "print('accuracy -> {}'.format(sum(y_pred1 == yval1)/yval1.shape[0]))\n"
   ]
  },
  {
   "cell_type": "code",
   "execution_count": 15,
   "metadata": {},
   "outputs": [
    {
     "name": "stdout",
     "output_type": "stream",
     "text": [
      "data printed successfully\n",
      "accuracy -> 0.775\n"
     ]
    },
    {
     "data": {
      "image/png": "[encoded data removed]",
      "text/plain": [
       "<Figure size 432x288 with 1 Axes>"
      ]
     },
     "metadata": {
      "needs_background": "light"
     },
     "output_type": "display_data"
    }
   ],
   "source": [
    "dtrain2 = pd.read_csv(\"ds2_train.csv\")\n",
    "dtest2 = pd.read_csv(\"ds2_test.csv\")\n",
    "xtrain2 = dtrain[['x_1','x_2']]\n",
    "ytrain2 = dtrain['y']\n",
    "xtr2, xval2, ytr2, yval2 = train_test_split(xtrain2, ytrain2, test_size=0.5)\n",
    "model2 = LogReg(xtr2, ytr2)\n",
    "model2.fit(0.001, 7000)\n",
    "y_pred2 =  model2.predict(xval2,0.5)\n",
    "print('accuracy -> {}'.format(sum(y_pred2 == yval2)/yval2.shape[0]))"
   ]
  },
  {
   "cell_type": "code",
   "execution_count": 7,
   "metadata": {},
   "outputs": [
    {
     "name": "stdout",
     "output_type": "stream",
     "text": [
      "data printed successfully\n",
      "accuracy -> 0.9\n"
     ]
    },
    {
     "data": {
      "image/png": "[encoded data removed]",
      "text/plain": [
       "<Figure size 432x288 with 1 Axes>"
      ]
     },
     "metadata": {
      "needs_background": "light"
     },
     "output_type": "display_data"
    }
   ],
   "source": [
    "xtest2 = dtest2[['x_1','x_2']]\n",
    "ytest2 = dtest2['y']\n",
    "xtr3, xval3, ytr3, yval3 = train_test_split(xtest2, ytest2, test_size=0.5)\n",
    "reg2 = LogReg(xtr3, ytr3)\n",
    "reg2.fit(0.0010, 7000)\n",
    "y_pred3 =  reg2.predict(xval3,0.5)\n",
    "print('accuracy -> {}'.format(sum(y_pred3 == yval3)/yval3.shape[0]))\n"
   ]
  },
  {
   "cell_type": "code",
   "execution_count": null,
   "metadata": {},
   "outputs": [],
   "source": []
  }
 ],
 "metadata": {
  "kernelspec": {
   "display_name": "Python 3",
   "language": "python",
   "name": "python3"
  },
  "language_info": {
   "codemirror_mode": {
    "name": "ipython",
    "version": 3
   },
   "file_extension": ".py",
   "mimetype": "text/x-python",
   "name": "python",
   "nbconvert_exporter": "python",
   "pygments_lexer": "ipython3",
   "version": "3.7.6"
  }
 },
 "nbformat": 4,
 "nbformat_minor": 4
}
