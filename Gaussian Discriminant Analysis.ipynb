{
 "cells": [
  {
   "cell_type": "code",
   "execution_count": 11,
   "metadata": {},
   "outputs": [],
   "source": [
    "import numpy as np\n",
    "import pandas as pd"
   ]
  },
  {
   "cell_type": "code",
   "execution_count": 132,
   "metadata": {},
   "outputs": [],
   "source": [
    "def cal_phi(y):\n",
    "    return(np.mean(y==1))\n",
    "\n",
    "def cal_mu1(x,y):\n",
    "    m = len(y)\n",
    "    y_pos = np.sum(y==0)\n",
    "    conditional_sum_x = np.zeros_like(x.iloc[1,:], dtype=np.float64)\n",
    "    for i in range(m):\n",
    "        xi = x.iloc[i,:]\n",
    "        yi = y[i]\n",
    "        if (yi==1):\n",
    "            conditional_sum_x += xi\n",
    "        else:\n",
    "            conditional_sum_x += np.zeros_like(xi)\n",
    "    return (1/m)*conditional_sum_x/y_pos\n",
    "    \n",
    "def cal_mu0(x,y):\n",
    "    m = len(y)\n",
    "    y_neg = np.sum(y==1)\n",
    "    conditional_sum_x = np.zeros_like(x.iloc[1,:])\n",
    "    for i in range(m):\n",
    "        xi = x.iloc[i,:]\n",
    "        yi = y.iloc[i]\n",
    "        if (yi==0):\n",
    "            conditional_sum_x += xi\n",
    "        else:\n",
    "            conditional_sum_x += np.zeros_like(xi)\n",
    "    return (1/m)*conditional_sum_x/y_neg\n",
    "    \n",
    "def cal_sigma(x, y, mu0, mu1):\n",
    "    mu = [mu0, mu1]\n",
    "    m = len(y)\n",
    "    x=x.to_numpy()\n",
    "    x_minus_mu = x[0] - mu[int(y[0])]\n",
    "    x_minus_mu = x_minus_mu.values.reshape(*(x_minus_mu.shape), 1)\n",
    "    s = np.matmul(x_minus_mu, x_minus_mu.T)\n",
    " \n",
    "    for i in range(1, m):\n",
    "        x_minus_mu = x[i] - mu[int(y[i])]\n",
    "        x_minus_mu = x_minus_mu.values.reshape(*(x_minus_mu.shape), 1)\n",
    "        s += np.matmul(x_minus_mu, x_minus_mu.T)\n",
    "    s = s/m\n",
    "    return(s)\n",
    "\n",
    "def px_py(x, mu, sigma):\n",
    "    pi = 3.1415926535\n",
    "    dim = len(mu)\n",
    "    x_minus_mu = x-mu\n",
    "    x_minus_mu = x_minus_mu.values.reshape(*(x_minus_mu.shape), 1)\n",
    "    expval = (np.matmul((x-mu),np.linalg.inv(sigma)))\n",
    "    return ((1/(((2*pi)**(dim/2))*np.sqrt(np.linalg.det(sigma))))*np.exp(-0.5*(np.dot(expval,(x-mu).T))))\n",
    "\n",
    "def cal_py(y, phi):\n",
    "    if (y==1):\n",
    "        return phi\n",
    "    else:\n",
    "        return 1-phi\n"
   ]
  },
  {
   "cell_type": "code",
   "execution_count": 133,
   "metadata": {},
   "outputs": [],
   "source": [
    "dtrain1 = pd.read_csv(\"ds1_train.csv\")\n",
    "dtest1 = pd.read_csv(\"ds1_test.csv\")\n",
    "\n",
    "xtrain1 = dtrain1[['x_1','x_2']]\n",
    "ytrain1 = dtrain1['y']\n",
    "xtest1 = dtest1[['x_1','x_2']]\n",
    "ytest1 = dtest1['y']\n"
   ]
  },
  {
   "cell_type": "code",
   "execution_count": 134,
   "metadata": {},
   "outputs": [],
   "source": [
    "phi1 =  cal_phi(ytrain1)\n",
    "mu1_1 = cal_mu1(xtrain1,ytrain1)\n",
    "mu0_1 = cal_mu0(xtrain1,ytrain1)\n",
    "sig1 = cal_sigma(xtrain1, ytrain1, mu0_1, mu1_1)\n",
    "\n",
    "px_y0_1 = px_py(xtest1, mu0_1, sig1)*cal_py(0, phi1)\n",
    "px_y1_1 = px_py(xtest1, mu1_1, sig1)*cal_py(0, phi1)"
   ]
  },
  {
   "cell_type": "code",
   "execution_count": 135,
   "metadata": {},
   "outputs": [
    {
     "data": {
      "text/plain": [
       "array([[1.64505313e-04, 1.43045952e-04, 1.57980056e-04, ...,\n",
       "        1.56266137e-04, 1.37898325e-04, 1.63086580e-04],\n",
       "       [1.43045952e-04, 1.10728112e-04, 1.26323457e-04, ...,\n",
       "        1.20354238e-04, 9.96768049e-05, 1.30166358e-04],\n",
       "       [1.57980056e-04, 1.26323457e-04, 1.22226395e-04, ...,\n",
       "        1.07741958e-04, 1.03017836e-04, 1.15409398e-04],\n",
       "       ...,\n",
       "       [1.56266137e-04, 1.20354238e-04, 1.07741958e-04, ...,\n",
       "        8.92595071e-05, 8.98021603e-05, 9.67347638e-05],\n",
       "       [1.37898325e-04, 9.96768049e-05, 1.03017836e-04, ...,\n",
       "        8.98021603e-05, 7.88174797e-05, 9.92086119e-05],\n",
       "       [1.63086580e-04, 1.30166358e-04, 1.15409398e-04, ...,\n",
       "        9.67347638e-05, 9.92086119e-05, 1.03696478e-04]])"
      ]
     },
     "execution_count": 135,
     "metadata": {},
     "output_type": "execute_result"
    }
   ],
   "source": [
    "px_y0_1"
   ]
  },
  {
   "cell_type": "code",
   "execution_count": 137,
   "metadata": {},
   "outputs": [
    {
     "name": "stdout",
     "output_type": "stream",
     "text": [
      "accuracy -> 0.24\n"
     ]
    }
   ],
   "source": [
    "m = len(ytest1)\n",
    "y_pred1 = np.zeros_like(ytest1)\n",
    "for i in range(m):\n",
    "    if (np.sum(px_y0_1[i]) > np.sum(px_y1_1[i])):\n",
    "        y_pred1[i]=0\n",
    "    else:\n",
    "        y_pred1[i]=1\n",
    "print('accuracy -> {}'.format(sum(y_pred1 == ytest1)/ytest1.shape[0]))"
   ]
  },
  {
   "cell_type": "code",
   "execution_count": 138,
   "metadata": {},
   "outputs": [],
   "source": [
    "dtrain2 = pd.read_csv(\"ds2_train.csv\")\n",
    "dtest2 = pd.read_csv(\"ds2_test.csv\")\n",
    "\n",
    "xtrain2 = dtrain2[['x_1','x_2']]\n",
    "ytrain2 = dtrain2['y']\n",
    "xtest2 = dtest2[['x_1','x_2']]\n",
    "ytest2 = dtest2['y']\n"
   ]
  },
  {
   "cell_type": "code",
   "execution_count": 140,
   "metadata": {},
   "outputs": [
    {
     "name": "stdout",
     "output_type": "stream",
     "text": [
      "accuracy -> 0.89\n"
     ]
    }
   ],
   "source": [
    "phi2 =  cal_phi(ytrain2)\n",
    "mu1_2 = cal_mu1(xtrain2,ytrain2)\n",
    "mu0_2 = cal_mu0(xtrain2,ytrain2)\n",
    "sig2 = cal_sigma(xtrain2, ytrain2, mu0_2, mu1_2)\n",
    "\n",
    "px_y0_2 = px_py(xtest2, mu0_2, sig2)*cal_py(0, phi2)\n",
    "px_y1_2 = px_py(xtest2, mu1_2, sig2)*cal_py(0, phi2)\n",
    "\n",
    "m = len(ytest2)\n",
    "y_pred2 = np.zeros_like(ytest2)\n",
    "for i in range(m):\n",
    "    if (np.sum(px_y0_2[i]) > np.sum(px_y1_2[i])):\n",
    "        y_pred2[i]=0\n",
    "    else:\n",
    "        y_pred2[i]=1\n",
    "print('accuracy -> {}'.format(sum(y_pred2 == ytest2)/ytest2.shape[0]))"
   ]
  },
  {
   "cell_type": "code",
   "execution_count": null,
   "metadata": {},
   "outputs": [
    {
     "data": {
      "text/plain": [
       "array([[0.38264832, 0.66220221, 0.46359646, ..., 0.48541294, 0.73550078,\n",
       "        0.39997161],\n",
       "       [0.66220221, 1.17437855, 0.91084258, ..., 1.0076553 , 1.38466805,\n",
       "        0.85090744],\n",
       "       [0.46359646, 0.91084258, 0.97678402, ..., 1.22905587, 1.31872978,\n",
       "        1.09156248],\n",
       "       ...,\n",
       "       [0.48541294, 1.0076553 , 1.22905587, ..., 1.60543818, 1.59331599,\n",
       "        1.44458838],\n",
       "       [0.73550078, 1.38466805, 1.31872978, ..., 1.59331599, 1.85426446,\n",
       "        1.39408441],\n",
       "       [0.39997161, 0.85090744, 1.09156248, ..., 1.44458838, 1.39408441,\n",
       "        1.30559775]])"
      ]
     },
     "execution_count": 342,
     "metadata": {},
     "output_type": "execute_result"
    }
   ],
   "source": [
    "expval = np.matmul((xtest1-mu0_1),np.linalg.inv(sig2))\n",
    "np.dot(expval,(xtest1-mu0_1).T)"
   ]
  },
  {
   "cell_type": "code",
   "execution_count": null,
   "metadata": {},
   "outputs": [
    {
     "data": {
      "text/plain": [
       "x_1      3.771027\n",
       "x_2    343.987218\n",
       "dtype: float64"
      ]
     },
     "execution_count": 233,
     "metadata": {},
     "output_type": "execute_result"
    }
   ],
   "source": [
    "mu = [mu0,mu1]\n",
    "s = xtr.loc[1,:]-mu[int(ytr[1])]\n",
    "s "
   ]
  },
  {
   "cell_type": "code",
   "execution_count": null,
   "metadata": {},
   "outputs": [
    {
     "data": {
      "text/plain": [
       "array([[65.81247502, 57.22738056, 63.20196162, ..., 62.51628624,\n",
       "        55.16800573, 65.2448925 ],\n",
       "       [57.22738056, 44.29821115, 50.53733057, ..., 48.14926727,\n",
       "        39.87699316, 52.0747326 ],\n",
       "       [63.20196162, 50.53733057, 48.89824776, ..., 43.10356196,\n",
       "        41.21361564, 46.1710201 ],\n",
       "       ...,\n",
       "       [62.51628624, 48.14926727, 43.10356196, ..., 35.70941864,\n",
       "        35.92651405, 38.69999161],\n",
       "       [55.16800573, 39.87699316, 41.21361564, ..., 35.92651405,\n",
       "        31.53195073, 39.68968649],\n",
       "       [65.2448925 , 52.0747326 , 46.1710201 , ..., 38.69999161,\n",
       "        39.68968649, 41.48511525]])"
      ]
     },
     "execution_count": 347,
     "metadata": {},
     "output_type": "execute_result"
    }
   ],
   "source": [
    "px_y0_1"
   ]
  },
  {
   "cell_type": "code",
   "execution_count": null,
   "metadata": {},
   "outputs": [],
   "source": [
    "m = len(y)\n",
    "mu = [mu0, mu1]\n",
    "x_minus_mu = x.iloc[1,:] - mu[int(y[1])]\n",
    "x_minus_mu = np.reshape(*(x_minus_mu.shape), 1)\n",
    "sqr_sum = np.matmul(x_minus_mu, x_minus_mu.T)\n",
    "for i in range(m):\n",
    "    xi = x.iloc[i,:]\n",
    "    yi = y[i]\n",
    "    if (yi==1):\n",
    "        sqr = (xi-mu1)*(xi-mu1)\n",
    "    else:\n",
    "        sqr = (xi-mu0)*(xi-mu0)\n",
    "    sqr_sum += sqr\n",
    "return sqr_sum/m"
   ]
  }
 ],
 "metadata": {
  "kernelspec": {
   "display_name": "Python 3.7.6 ('base')",
   "language": "python",
   "name": "python3"
  },
  "language_info": {
   "codemirror_mode": {
    "name": "ipython",
    "version": 3
   },
   "file_extension": ".py",
   "mimetype": "text/x-python",
   "name": "python",
   "nbconvert_exporter": "python",
   "pygments_lexer": "ipython3",
   "version": "3.7.6"
  },
  "vscode": {
   "interpreter": {
    "hash": "f7e7650e96da5b06cdabcfee3f2a39e41b40cd63bb753cf4fd43581747ce0cb1"
   }
  }
 },
 "nbformat": 4,
 "nbformat_minor": 4
}
