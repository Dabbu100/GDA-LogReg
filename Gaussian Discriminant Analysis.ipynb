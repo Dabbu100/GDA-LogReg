{
 "cells": [
  {
   "cell_type": "code",
   "execution_count": 255,
   "metadata": {},
   "outputs": [],
   "source": [
    "import numpy as np\n",
    "import pandas as pd\n",
    "from sklearn.decomposition import PCA"
   ]
  },
  {
   "cell_type": "code",
   "execution_count": 256,
   "metadata": {},
   "outputs": [],
   "source": [
    "def cal_phi(y):\n",
    "    return(np.mean(y==1))\n",
    "\n",
    "def cal_mu1(x,y):\n",
    "    m = len(y)\n",
    "    y_pos = np.sum(y==0)\n",
    "    conditional_sum_x = np.zeros_like(x[1,:], dtype=np.float64)\n",
    "    for i in range(m):\n",
    "        xi = x[i,:]\n",
    "        yi = y[i]\n",
    "        if (yi==1):\n",
    "            conditional_sum_x += xi\n",
    "        else:\n",
    "            conditional_sum_x += np.zeros_like(xi)\n",
    "    return (1/m)*conditional_sum_x/y_pos\n",
    "    \n",
    "def cal_mu0(x,y):\n",
    "    m = len(y)\n",
    "    y_neg = np.sum(y==1)\n",
    "    conditional_sum_x = np.zeros_like(x[1,:])\n",
    "    for i in range(m):\n",
    "        xi = x[i,:]\n",
    "        yi = y[i]\n",
    "        if (yi==0):\n",
    "            conditional_sum_x += xi\n",
    "        else:\n",
    "            conditional_sum_x += np.zeros_like(xi)\n",
    "    return (1/m)*conditional_sum_x/y_neg\n",
    "    \n",
    "def cal_sigma(x, y, mu0, mu1):\n",
    "    mu = [mu0, mu1]\n",
    "    m = len(y)\n",
    "    # x=x.to_numpy()\n",
    "    x_minus_mu = x[0] - mu[int(y[0])]\n",
    "    x_minus_mu = x_minus_mu.reshape(*(x_minus_mu.shape), 1)\n",
    "    s = np.matmul(x_minus_mu, x_minus_mu.T)\n",
    " \n",
    "    for i in range(1, m):\n",
    "        x_minus_mu = x[i] - mu[int(y[i])]\n",
    "        x_minus_mu = x_minus_mu.reshape(*(x_minus_mu.shape), 1)\n",
    "        s += np.matmul(x_minus_mu, x_minus_mu.T)\n",
    "    s = s/m\n",
    "    return(s)\n",
    "\n",
    "def px_py(x, mu, sigma):\n",
    "    pi = 3.1415926535\n",
    "    dim = len(mu)\n",
    "    x_minus_mu = x-mu\n",
    "    x_minus_mu = x_minus_mu.reshape(*(x_minus_mu.shape), 1)\n",
    "    expval = (np.matmul((x-mu),np.linalg.inv(sigma)))\n",
    "    return ((1/(((2*pi)**(dim/2))*np.sqrt(np.linalg.det(sigma))))*np.exp(-0.5*(np.matmul(expval, (x-mu).T))))\n",
    "\n",
    "def cal_py(y, phi):\n",
    "    if (y==1):\n",
    "        return phi\n",
    "    else:\n",
    "        return 1-phi\n"
   ]
  },
  {
   "cell_type": "code",
   "execution_count": 257,
   "metadata": {},
   "outputs": [],
   "source": [
    "dtrain1 = pd.read_csv(\"ds1_train.csv\")\n",
    "dtest1 = pd.read_csv(\"ds1_test.csv\")\n",
    "\n",
    "xtrain1 = dtrain1[['x_1','x_2']]\n",
    "ytrain1 = dtrain1['y']\n",
    "xtest1 = dtest1[['x_1','x_2']]\n",
    "ytest1 = dtest1['y']\n",
    "ytest1 = ytest1.values.reshape(*(ytest1.shape), 1)\n",
    "\n"
   ]
  },
  {
   "cell_type": "code",
   "execution_count": 258,
   "metadata": {},
   "outputs": [],
   "source": [
    "pca = PCA(n_components=2)\n",
    "pca.fit(xtrain1)\n",
    "xtrain1 = pca.transform(xtrain1)\n",
    "xtest1 = pca.transform(xtest1)"
   ]
  },
  {
   "cell_type": "code",
   "execution_count": 259,
   "metadata": {},
   "outputs": [],
   "source": [
    "phi1 =  cal_phi(ytrain1)\n",
    "mu1_1 = cal_mu1(xtrain1,ytrain1)\n",
    "mu0_1 = cal_mu0(xtrain1,ytrain1)\n",
    "sig1 = cal_sigma(xtrain1, ytrain1, mu0_1, mu1_1)"
   ]
  },
  {
   "cell_type": "code",
   "execution_count": 260,
   "metadata": {},
   "outputs": [
    {
     "name": "stdout",
     "output_type": "stream",
     "text": [
      "accuracy -> [0.83]\n"
     ]
    }
   ],
   "source": [
    "m = len(ytest1)\n",
    "y_pred1 = np.zeros_like(ytest1)\n",
    "for i in range(m):   \n",
    "    px_y0_1 = px_py(xtest1[i], mu0_1, sig1)*cal_py(0, phi1)\n",
    "    px_y1_1 = px_py(xtest1[i], mu1_1, sig1)*cal_py(0, phi1)\n",
    "    if (px_y0_1 > px_y1_1):\n",
    "        y_pred1[i]=0\n",
    "    else:\n",
    "        y_pred1[i]=1\n",
    "print('accuracy -> {}'.format(sum(y_pred1 == ytest1)/ytest1.shape[0]))"
   ]
  },
  {
   "cell_type": "code",
   "execution_count": 261,
   "metadata": {},
   "outputs": [],
   "source": [
    "dtrain2 = pd.read_csv(\"ds2_train.csv\")\n",
    "dtest2 = pd.read_csv(\"ds2_test.csv\")\n",
    "\n",
    "xtrain2 = dtrain2[['x_1','x_2']]\n",
    "ytrain2 = dtrain2['y']\n",
    "xtest2 = dtest2[['x_1','x_2']]\n",
    "ytest2 = dtest2['y']\n",
    "ytest2 = ytest2.values.reshape(*(ytest2.shape), 1)\n",
    "\n"
   ]
  },
  {
   "cell_type": "code",
   "execution_count": 262,
   "metadata": {},
   "outputs": [],
   "source": [
    "pca.fit(xtrain2)\n",
    "xtrain2 = pca.transform(xtrain2)\n",
    "xtest2 = pca.transform(xtest2)"
   ]
  },
  {
   "cell_type": "code",
   "execution_count": 263,
   "metadata": {},
   "outputs": [
    {
     "name": "stdout",
     "output_type": "stream",
     "text": [
      "accuracy -> [0.91]\n"
     ]
    }
   ],
   "source": [
    "phi2 =  cal_phi(ytrain2)\n",
    "mu1_2 = cal_mu1(xtrain2,ytrain2)\n",
    "mu0_2 = cal_mu0(xtrain2,ytrain2)\n",
    "sig2 = cal_sigma(xtrain2, ytrain2, mu0_2, mu1_2)\n",
    "\n",
    "m = len(ytest2)\n",
    "y_pred2 = np.zeros_like(ytest2)\n",
    "for i in range(m):\n",
    "    px_y0_2 = px_py(xtest2[i], mu0_2, sig2)*cal_py(0, phi2)\n",
    "    px_y1_2 = px_py(xtest2[i], mu1_2, sig2)*cal_py(0, phi2)\n",
    "    if (px_y0_2 > px_y1_2):\n",
    "        y_pred2[i]=0\n",
    "    else:\n",
    "        y_pred2[i]=1\n",
    "print('accuracy -> {}'.format(sum(y_pred2 == ytest2)/ytest2.shape[0]))"
   ]
  },
  {
   "cell_type": "code",
   "execution_count": null,
   "metadata": {},
   "outputs": [],
   "source": []
  }
 ],
 "metadata": {
  "kernelspec": {
   "display_name": "Python 3.7.6 ('base')",
   "language": "python",
   "name": "python3"
  },
  "language_info": {
   "codemirror_mode": {
    "name": "ipython",
    "version": 3
   },
   "file_extension": ".py",
   "mimetype": "text/x-python",
   "name": "python",
   "nbconvert_exporter": "python",
   "pygments_lexer": "ipython3",
   "version": "3.7.6"
  },
  "vscode": {
   "interpreter": {
    "hash": "f7e7650e96da5b06cdabcfee3f2a39e41b40cd63bb753cf4fd43581747ce0cb1"
   }
  }
 },
 "nbformat": 4,
 "nbformat_minor": 4
}
