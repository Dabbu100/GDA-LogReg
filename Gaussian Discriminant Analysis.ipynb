{
 "cells": [
  {
   "cell_type": "code",
   "execution_count": 225,
   "metadata": {},
   "outputs": [],
   "source": [
    "import numpy as np\n",
    "import pandas as pd\n",
    "from sklearn.decomposition import PCA"
   ]
  },
  {
   "cell_type": "code",
   "execution_count": 226,
   "metadata": {},
   "outputs": [],
   "source": [
    "def cal_phi(y):\n",
    "    return(np.mean(y==1))\n",
    "\n",
    "def cal_mu1(x,y):\n",
    "    m = len(y)\n",
    "    y_pos = np.sum(y==0)\n",
    "    conditional_sum_x = np.zeros_like(x[1,:], dtype=np.float64)\n",
    "    for i in range(m):\n",
    "        xi = x[i,:]\n",
    "        yi = y[i]\n",
    "        if (yi==1):\n",
    "            conditional_sum_x += xi\n",
    "        else:\n",
    "            conditional_sum_x += np.zeros_like(xi)\n",
    "    return (1/m)*conditional_sum_x/y_pos\n",
    "    \n",
    "def cal_mu0(x,y):\n",
    "    m = len(y)\n",
    "    y_neg = np.sum(y==1)\n",
    "    conditional_sum_x = np.zeros_like(x[1,:])\n",
    "    for i in range(m):\n",
    "        xi = x[i,:]\n",
    "        yi = y[i]\n",
    "        if (yi==0):\n",
    "            conditional_sum_x += xi\n",
    "        else:\n",
    "            conditional_sum_x += np.zeros_like(xi)\n",
    "    return (1/m)*conditional_sum_x/y_neg\n",
    "    \n",
    "def cal_sigma(x, y, mu0, mu1):\n",
    "    mu = [mu0, mu1]\n",
    "    m = len(y)\n",
    "    # x=x.to_numpy()\n",
    "    x_minus_mu = x[0] - mu[int(y[0])]\n",
    "    x_minus_mu = x_minus_mu.reshape(*(x_minus_mu.shape), 1)\n",
    "    s = np.matmul(x_minus_mu, x_minus_mu.T)\n",
    " \n",
    "    for i in range(1, m):\n",
    "        x_minus_mu = x[i] - mu[int(y[i])]\n",
    "        x_minus_mu = x_minus_mu.reshape(*(x_minus_mu.shape), 1)\n",
    "        s += np.matmul(x_minus_mu, x_minus_mu.T)\n",
    "    s = s/m\n",
    "    return(s)\n",
    "\n",
    "def px_py(x, mu, sigma):\n",
    "    pi = 3.1415926535\n",
    "    dim = len(mu)\n",
    "    x_minus_mu = x-mu\n",
    "    x_minus_mu = x_minus_mu.reshape(*(x_minus_mu.shape), 1)\n",
    "    expval = (np.matmul((x-mu),np.linalg.inv(sigma)))\n",
    "    return ((1/(((2*pi)**(dim/2))*np.sqrt(np.linalg.det(sigma))))*np.exp(-0.5*(np.dot(expval, (x-mu).T))))\n",
    "\n",
    "def cal_py(y, phi):\n",
    "    if (y==1):\n",
    "        return phi\n",
    "    else:\n",
    "        return 1-phi\n"
   ]
  },
  {
   "cell_type": "code",
   "execution_count": 227,
   "metadata": {},
   "outputs": [],
   "source": [
    "dtrain1 = pd.read_csv(\"ds1_train.csv\")\n",
    "dtest1 = pd.read_csv(\"ds1_test.csv\")\n",
    "\n",
    "xtrain1 = dtrain1[['x_1','x_2']]\n",
    "ytrain1 = dtrain1['y']\n",
    "xtest1 = dtest1[['x_1','x_2']]\n",
    "ytest1 = dtest1['y']\n",
    "ytest1 = ytest1.values.reshape(*(ytest1.shape), 1)\n",
    "\n"
   ]
  },
  {
   "cell_type": "code",
   "execution_count": 228,
   "metadata": {},
   "outputs": [],
   "source": [
    "pca = PCA(n_components=2)\n",
    "pca.fit(xtrain1)\n",
    "xtrain1 = pca.transform(xtrain1)\n",
    "xtest1 = pca.transform(xtest1)"
   ]
  },
  {
   "cell_type": "code",
   "execution_count": 229,
   "metadata": {},
   "outputs": [],
   "source": [
    "phi1 =  cal_phi(ytrain1)\n",
    "mu1_1 = cal_mu1(xtrain1,ytrain1)\n",
    "mu0_1 = cal_mu0(xtrain1,ytrain1)\n",
    "sig1 = cal_sigma(xtrain1, ytrain1, mu0_1, mu1_1)\n",
    "\n",
    "px_y0_1 = px_py(xtest1, mu0_1, sig1)*cal_py(0, phi1)\n",
    "px_y1_1 = px_py(xtest1, mu1_1, sig1)*cal_py(0, phi1)"
   ]
  },
  {
   "cell_type": "code",
   "execution_count": 230,
   "metadata": {},
   "outputs": [
    {
     "name": "stdout",
     "output_type": "stream",
     "text": [
      "accuracy -> [0.55]\n"
     ]
    }
   ],
   "source": [
    "m = len(ytest1)\n",
    "y_pred1 = np.zeros_like(ytest1)\n",
    "for i in range(m):\n",
    "    if (np.sum(px_y0_1[i]) > np.sum(px_y1_1[i])):\n",
    "        y_pred1[i]=0\n",
    "    else:\n",
    "        y_pred1[i]=1\n",
    "print('accuracy -> {}'.format(sum(y_pred1 == ytest1)/ytest1.shape[0]))"
   ]
  },
  {
   "cell_type": "code",
   "execution_count": 231,
   "metadata": {},
   "outputs": [],
   "source": [
    "dtrain2 = pd.read_csv(\"ds2_train.csv\")\n",
    "dtest2 = pd.read_csv(\"ds2_test.csv\")\n",
    "\n",
    "xtrain2 = dtrain2[['x_1','x_2']]\n",
    "ytrain2 = dtrain2['y']\n",
    "xtest2 = dtest2[['x_1','x_2']]\n",
    "ytest2 = dtest2['y']\n",
    "ytest2 = ytest2.values.reshape(*(ytest2.shape), 1)\n",
    "\n"
   ]
  },
  {
   "cell_type": "code",
   "execution_count": 232,
   "metadata": {},
   "outputs": [],
   "source": [
    "pca.fit(xtrain2)\n",
    "xtrain2 = pca.transform(xtrain2)\n",
    "xtest2 = pca.transform(xtest2)"
   ]
  },
  {
   "cell_type": "code",
   "execution_count": 233,
   "metadata": {},
   "outputs": [
    {
     "name": "stdout",
     "output_type": "stream",
     "text": [
      "accuracy -> [0.92]\n"
     ]
    }
   ],
   "source": [
    "phi2 =  cal_phi(ytrain2)\n",
    "mu1_2 = cal_mu1(xtrain2,ytrain2)\n",
    "mu0_2 = cal_mu0(xtrain2,ytrain2)\n",
    "sig2 = cal_sigma(xtrain2, ytrain2, mu0_2, mu1_2)\n",
    "\n",
    "px_y0_2 = px_py(xtest2, mu0_2, sig2)*cal_py(0, phi2)\n",
    "px_y1_2 = px_py(xtest2, mu1_2, sig2)*cal_py(0, phi2)\n",
    "\n",
    "m = len(ytest2)\n",
    "y_pred2 = np.zeros_like(ytest2)\n",
    "for i in range(m):\n",
    "    if (np.sum(px_y0_2[i]) > np.sum(px_y1_2[i])):\n",
    "        y_pred2[i]=0\n",
    "    else:\n",
    "        y_pred2[i]=1\n",
    "print('accuracy -> {}'.format(sum(y_pred2 == ytest2)/ytest2.shape[0]))"
   ]
  },
  {
   "cell_type": "code",
   "execution_count": 190,
   "metadata": {},
   "outputs": [
    {
     "data": {
      "text/plain": [
       "(100, 2)"
      ]
     },
     "execution_count": 190,
     "metadata": {},
     "output_type": "execute_result"
    }
   ],
   "source": [
    "np.shape((np.matmul((xtest1-mu0_1),np.linalg.inv(sig1))))"
   ]
  },
  {
   "cell_type": "code",
   "execution_count": 191,
   "metadata": {},
   "outputs": [
    {
     "data": {
      "text/plain": [
       "(2, 100)"
      ]
     },
     "execution_count": 191,
     "metadata": {},
     "output_type": "execute_result"
    }
   ],
   "source": [
    "np.shape((xtest1-mu0_1).T)"
   ]
  },
  {
   "cell_type": "code",
   "execution_count": 196,
   "metadata": {},
   "outputs": [
    {
     "data": {
      "text/plain": [
       "6.346898189797457e-05"
      ]
     },
     "execution_count": 196,
     "metadata": {},
     "output_type": "execute_result"
    }
   ],
   "source": [
    "((1/(((2*3.14)**(len(mu0_1/2))*np.sqrt(np.linalg.det(sig1))))))"
   ]
  },
  {
   "cell_type": "code",
   "execution_count": 235,
   "metadata": {},
   "outputs": [
    {
     "data": {
      "text/plain": [
       "array([[0.02533589, 0.0582253 , 0.03989009, ..., 0.15495648, 0.24112024,\n",
       "        0.12700978],\n",
       "       [0.0582253 , 0.0614262 , 0.05795623, ..., 0.07306605, 0.08814404,\n",
       "        0.11100685],\n",
       "       [0.03989009, 0.05795623, 0.04745388, ..., 0.09925219, 0.13949339,\n",
       "        0.13328721],\n",
       "       ...,\n",
       "       [0.15495648, 0.07306605, 0.09925219, ..., 0.03387583, 0.02683623,\n",
       "        0.06364463],\n",
       "       [0.24112024, 0.08814404, 0.13949339, ..., 0.02683623, 0.0155986 ,\n",
       "        0.03341614],\n",
       "       [0.12700978, 0.11100685, 0.13328721, ..., 0.06364463, 0.03341614,\n",
       "        0.01393846]])"
      ]
     },
     "execution_count": 235,
     "metadata": {},
     "output_type": "execute_result"
    }
   ],
   "source": [
    "px_y1_2"
   ]
  },
  {
   "cell_type": "code",
   "execution_count": null,
   "metadata": {},
   "outputs": [],
   "source": []
  }
 ],
 "metadata": {
  "kernelspec": {
   "display_name": "Python 3.7.6 ('base')",
   "language": "python",
   "name": "python3"
  },
  "language_info": {
   "codemirror_mode": {
    "name": "ipython",
    "version": 3
   },
   "file_extension": ".py",
   "mimetype": "text/x-python",
   "name": "python",
   "nbconvert_exporter": "python",
   "pygments_lexer": "ipython3",
   "version": "3.7.6"
  },
  "vscode": {
   "interpreter": {
    "hash": "f7e7650e96da5b06cdabcfee3f2a39e41b40cd63bb753cf4fd43581747ce0cb1"
   }
  }
 },
 "nbformat": 4,
 "nbformat_minor": 4
}
